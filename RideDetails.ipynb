{
 "cells": [
  {
   "cell_type": "code",
   "execution_count": null,
   "metadata": {},
   "outputs": [],
   "source": [
    "#select * from neworiginal_data where tpep_pickup_datetime > '2016-01-01 00:00:06' order by tpep_pickup_datetime limit 10;\n",
    "class RideDetailClass:\n",
    "    \n",
    "    def_init_(self,vendorID,pickup_timestamp,dropoff_timestamp,passenger_count,trip_dist,pickup_long,pickup_latitude,storeFwdFlag,dropoff_long,dropoff_latitude,fare_amount,tolls_amount,total_fare,trip_id):\n",
    "        self.vendorID = vendorID;\n",
    "        self.pickup_timestamp = pickup_timestamp \n",
    "        self.dropoff_timestamp = dropoff_timestamp\n",
    "        self.passenger_count = passenger_count\n",
    "        self.trip_dist = trip_dist\n",
    "        self.pickup_latitude=pickup_latitude\n",
    "        self.storeFwdFlag = storeFwdFlag\n",
    "        self.dropoff_long = dropoff_long\n",
    "        self.dropoff_latitude = dropoff_latitude\n",
    "        self.fare_amount = fare_amount\n",
    "        self.tolls_amount = tolls_amount\n",
    "        self.total_fare = total_fare\n",
    "        self.trip_id = trip_id\n",
    "        \n",
    "    #time window of 5 minutes\n",
    "    \n",
    "    def getFirstRecordPickupTimeStamp(self,connObj):\n",
    "        query = \"SELECT tpep_pickup_datetime FROM neworiginal_data limit 1;\"\n",
    "        cursor = connObj.cursor();\n",
    "        cursor.execute(query);\n",
    "        return cursor.fetchOne(); \n",
    "        \n",
    "    def getRideDetails(self, connObj, noRecordsSkipped):\n",
    "        starttime = getFirstRecordPickupTimeStamp(self,connObj)      \n",
    "        query = \"select * from neworiginal_data where TIMESTAMPDIFF(MINUTE,'2016-01-01 00:00:00', tpep_pickup_datetime) < 2 order by tpep_pickup_datetime limit 10;\"\n",
    "        \n",
    "        \n",
    "        \n",
    "        \n",
    "        \n",
    "        \n",
    "        \n",
    "    \n",
    "    "
   ]
  },
  {
   "cell_type": "code",
   "execution_count": null,
   "metadata": {},
   "outputs": [],
   "source": [
    "class EuclideanDistance:\n",
    "    \n",
    "    def __init__(self,lon1,lat1,lon2,lat2):\n",
    "        self.lon1 = lon1\n",
    "        self.lat1 = lat1\n",
    "        self.lon2 = lon2\n",
    "        self.lat2 = lat2\n",
    "\n",
    "\n",
    "    def haversine(self):\n",
    "    \n",
    "        # convert decimal degrees to radians \n",
    "        self.lon1, self.lat1, self.lon2, self.lat2 = map(radians, [self.lon1, self.lat1, self.lon2, self.lat2])\n",
    "\n",
    "        # haversine formula \n",
    "        dlon = self.lon2 - self.lon1 \n",
    "        dlat = self.lat2 - self.lat1 \n",
    "        a = sin(dlat/2)**2 + cos(self.lat1) * cos(self.lat2) * sin(dlon/2)**2\n",
    "        c = 2 * asin(sqrt(a)) \n",
    "        #r = 6371 # Radius of earth in kilometers. Use 3956 for miles\n",
    "        return c * 3963.1676\n",
    "\n",
    "#haversine(-73.971249, 40.783060, -73.985130, 40.758896)\n",
    "ec = EuclideanDistance(-73.971249,40.783060,-73.985130,40.758896)\n",
    "ec.haversine()\n"
   ]
  }
 ],
 "metadata": {
  "kernelspec": {
   "display_name": "Python 3",
   "language": "python",
   "name": "python3"
  },
  "language_info": {
   "codemirror_mode": {
    "name": "ipython",
    "version": 3
   },
   "file_extension": ".py",
   "mimetype": "text/x-python",
   "name": "python",
   "nbconvert_exporter": "python",
   "pygments_lexer": "ipython3",
   "version": "3.6.4"
  }
 },
 "nbformat": 4,
 "nbformat_minor": 2
}
