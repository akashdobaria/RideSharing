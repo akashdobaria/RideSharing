{
 "cells": [
  {
   "cell_type": "code",
   "execution_count": 2,
   "metadata": {},
   "outputs": [],
   "source": [
    "import mysql.connector\n",
    "\n",
    "def dbConnection():\n",
    "    \n",
    "    cnx = mysql.connector.connect(user = 'root',password='password123!',host='localhost',database='ridesharing');\n",
    "    #cursor = cnx.cursor();\n",
    "\n",
    "    #cursor.execute(\"USE ridesharing\");\n",
    "\n",
    "    #tables\n",
    "    #query1 = (\"select Extra from ridesharing.NEWoriginal_data limit 10\")\n",
    "    #query = (\"alter table ridesharing.NEWoriginal_data drop Extra\");\n",
    "    #cursor.execute(query);\n",
    "    #cnx.close();\n",
    "    return cnx;\n"
   ]
  },
  {
   "cell_type": "code",
   "execution_count": 3,
   "metadata": {},
   "outputs": [],
   "source": [
    "#import pandas as pd\n",
    "#import numpy as np\n",
    "\n",
    "#df = pd.read_csv('C://Users//Khushbu//Desktop//uic//main//DBMS//yellow_tripdata_2016-01.csv')\n",
    "#df"
   ]
  },
  {
   "cell_type": "code",
   "execution_count": null,
   "metadata": {},
   "outputs": [],
   "source": []
  }
 ],
 "metadata": {
  "kernelspec": {
   "display_name": "Python 3",
   "language": "python",
   "name": "python3"
  },
  "language_info": {
   "codemirror_mode": {
    "name": "ipython",
    "version": 3
   },
   "file_extension": ".py",
   "mimetype": "text/x-python",
   "name": "python",
   "nbconvert_exporter": "python",
   "pygments_lexer": "ipython3",
   "version": "3.6.4"
  }
 },
 "nbformat": 4,
 "nbformat_minor": 2
}
